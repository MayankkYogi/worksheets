{
 "cells": [
  {
   "cell_type": "raw",
   "metadata": {},
   "source": [
    "1 c\n",
    "2 c\n",
    "3 c\n",
    "4 d\n",
    "5 c\n",
    "6 c\n",
    "7 c\n",
    "8 a\n",
    "9 c\n",
    "10 c\n",
    "11 a,b\n",
    "12 c\n",
    "13 a,b,c"
   ]
  },
  {
   "cell_type": "code",
   "execution_count": 29,
   "metadata": {},
   "outputs": [],
   "source": [
    "from selenium import webdriver\n",
    "import os\n",
    "import shutil\n",
    "import requests\n",
    "import pandas as pd\n",
    "import csv\n",
    "import graphviz\n",
    "import pandas as pd\n",
    "import csv"
   ]
  },
  {
   "cell_type": "code",
   "execution_count": 19,
   "metadata": {},
   "outputs": [],
   "source": [
    "DRIVER_PATH = r\"C:\\Users\\Mayank.Yogi\\.wdm\\drivers\\chromedriver\\win32\\85.0.4183.87\\chromedriver.exe\""
   ]
  },
  {
   "cell_type": "code",
   "execution_count": 28,
   "metadata": {},
   "outputs": [
    {
     "name": "stdout",
     "output_type": "stream",
     "text": [
      "https://rukminim1.flixcart.com/image/330/396/jj7givk0/sunglass/h/2/h/58-0rb3025i-ray-ban-original-imaexcmg93ybdxb9.jpeg?q=50\n",
      "https://rukminim1.flixcart.com/image/330/396/sunglass/q/j/z/0rb3025i031-3258-ray-ban-58-original-imadtrdtyy7xx56p.jpeg?q=50\n",
      "https://rukminim1.flixcart.com/image/330/396/k8ho0i80/sunglass/s/w/3/59-0rb3432i00259-ray-ban-original-imafqhhc6gmj9mq7.jpeg?q=50\n",
      "https://rukminim1.flixcart.com/image/330/396/sunglass/3/c/h/0rb3025i-001-51-ray-ban-58-original-imadwmsxjgyk8zj5.jpeg?q=50\n",
      "https://rukminim1.flixcart.com/image/330/396/jj7givk0/sunglass/u/h/r/58-0rb3552i-ray-ban-original-imaf6ssrnfgghggk.jpeg?q=50\n",
      "https://rukminim1.flixcart.com/image/330/396/sunglass/y/n/a/0rb3025i002-32-ray-ban-55-original-imadrnwp8d3apgjt.jpeg?q=50\n",
      "https://rukminim1.flixcart.com/image/330/396/k8ho0i80/sunglass/f/j/j/56-0rb4387601-7156-ray-ban-original-imafqhhcbptjbjxj.jpeg?q=50\n",
      "https://rukminim1.flixcart.com/image/330/396/sunglass/d/c/9/3052i-60-w3180-ray-ban-m-original-imaem82yvgjh6zxk.jpeg?q=50\n",
      "https://rukminim1.flixcart.com/image/330/396/j20qv0w0/sunglass/r/4/h/57-0rb3335i00257-ray-ban-original-imaeth2gh7vhaxyk.jpeg?q=50\n",
      "https://rukminim1.flixcart.com/image/330/396/k8ho0i80/sunglass/w/r/m/63-0rb3412i00163-ray-ban-original-imafqhhccwhxmetc.jpeg?q=50\n",
      "download 1 and 10 images\n",
      "download 2 and 10 images\n",
      "download 3 and 10 images\n",
      "download 4 and 10 images\n",
      "download 5 and 10 images\n",
      "download 6 and 10 images\n",
      "download 7 and 10 images\n",
      "download 8 and 10 images\n",
      "download 9 and 10 images\n",
      "download 10 and 10 images\n"
     ]
    }
   ],
   "source": [
    "driver = webdriver.Chrome(executable_path=DRIVER_PATH)\n",
    "current_page_url = driver.get('https://www.flipkart.com/search?q=ray+ban+sunglasses+men&sid=26x&as=on&as-show=on&otracker=AS_QueryStore_OrganicAutoSuggest_1_3_na_na_na&otracker1=AS_QueryStore_OrganicAutoSuggest_1_3_na_na_na&as-pos=1&as-type=RECENT&suggestionId=ray+ban+sunglasses+men%7CSunglasses&requestId=eeb19996-37f1-4425-9cd3-9e238a6fe4fb&as-searchtext=ray')\n",
    "\n",
    "\n",
    "def make_dir(dirname):\n",
    "    current_path = os.getcwd()\n",
    "    path = os.path.join(current_path,dirname)\n",
    "    if not os.path.exists(path):\n",
    "        os.makedirs(path)\n",
    "        \n",
    "GLASS = 'glass'\n",
    "make_dir(GLASS)      \n",
    "\n",
    "images = driver.find_elements_by_xpath(\"//img[@class='_3togXc']\")\n",
    "\n",
    "#scrap 10 images\n",
    "images = images[0:10]\n",
    "len(images)\n",
    "\n",
    "\n",
    "urls=[]\n",
    "for image in images:\n",
    "    source = image.get_attribute('src')\n",
    "    urls.append(source)\n",
    "    print(source)\n",
    "\n",
    "\n",
    "\n",
    "page = 1\n",
    "for index,link in enumerate(urls):\n",
    "    product_details = scrap_image(driver=driver)\n",
    "    print('download {0} and {1} images'.format(index+1 , len(urls)))\n",
    "    response = requests.get(link)\n",
    "    with open('glass/img_{0}{1}.jpeg'.format(index,page),\"wb\") as file:\n",
    "        file.write(response.content)"
   ]
  },
  {
   "cell_type": "code",
   "execution_count": null,
   "metadata": {},
   "outputs": [],
   "source": []
  },
  {
   "cell_type": "code",
   "execution_count": null,
   "metadata": {},
   "outputs": [],
   "source": []
  },
  {
   "cell_type": "code",
   "execution_count": null,
   "metadata": {},
   "outputs": [],
   "source": []
  },
  {
   "cell_type": "markdown",
   "metadata": {},
   "source": [
    "# MOUSE"
   ]
  },
  {
   "cell_type": "code",
   "execution_count": null,
   "metadata": {},
   "outputs": [],
   "source": []
  },
  {
   "cell_type": "code",
   "execution_count": 46,
   "metadata": {},
   "outputs": [
    {
     "name": "stdout",
     "output_type": "stream",
     "text": [
      "scrap page 1 and 2 pages\n",
      "scrap page 2 and 2 pages\n"
     ]
    }
   ],
   "source": [
    "driver = webdriver.Chrome(executable_path=DRIVER_PATH)\n",
    "current_page_url = driver.get('https://www.amazon.in/s?k=mouse+for+laptop&i=computers&rh=p_36%3A-49900&qid=1600926389&rnid=1318502031&ref=sr_nr_p_36_5')\n",
    "\n",
    "\n",
    "\n",
    "def scrap_image(driver):\n",
    "    product_data = {}\n",
    "    brands = driver.find_elements_by_xpath(\"//span[@class='a-size-medium a-color-base a-text-normal']\")\n",
    "    prices = driver.find_elements_by_xpath(\"//span[@class='a-price']\")\n",
    "    product_data['brands'] = []\n",
    "    product_data['prices'] = []\n",
    "    \n",
    "    for brand in brands:\n",
    "        product_data['brands'].append(brand.text)\n",
    "        \n",
    "    for price in prices:\n",
    "        product_data['prices'].append(price.text)    \n",
    "        \n",
    "    return product_data\n",
    "\n",
    "\n",
    "def make_dir(dirname):\n",
    "    current_path = os.getcwd()\n",
    "    path = os.path.join(current_path,dirname)\n",
    "    if not os.path.exists(path):\n",
    "        os.makedirs(path)\n",
    "        \n",
    "        \n",
    "def save_to_csv(data,filename):\n",
    "    df = pd.DataFrame(data)\n",
    "    df.to_csv(filename,mode='a',encoding='utf-8-sig')\n",
    "    \n",
    "            \n",
    "            \n",
    "            \n",
    "\n",
    "MOUSE = 'mouse'\n",
    "make_dir(MOUSE)\n",
    "\n",
    "start_page = 1\n",
    "total_page = 2\n",
    "\n",
    "\n",
    "for page in range(start_page,total_page+1):\n",
    "    product_details = scrap_image(driver=driver)\n",
    "    print(\"scrap page {0} and {1} pages\".format(page,total_page))\n",
    "    save_to_csv(data=product_details,filename='mouse.csv')\n"
   ]
  }
 ],
 "metadata": {
  "kernelspec": {
   "display_name": "Python 3",
   "language": "python",
   "name": "python3"
  },
  "language_info": {
   "codemirror_mode": {
    "name": "ipython",
    "version": 3
   },
   "file_extension": ".py",
   "mimetype": "text/x-python",
   "name": "python",
   "nbconvert_exporter": "python",
   "pygments_lexer": "ipython3",
   "version": "3.7.7"
  }
 },
 "nbformat": 4,
 "nbformat_minor": 4
}
